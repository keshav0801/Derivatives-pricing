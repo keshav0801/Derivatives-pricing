{
 "cells": [
  {
   "cell_type": "markdown",
   "metadata": {},
   "source": [
    "# Brownian Motion Process and Black-Scholes Formula for Pricing"
   ]
  },
  {
   "cell_type": "markdown",
   "metadata": {},
   "source": [
    "## Brownian Motion Process\n",
    "Brownian motion, also known as Wiener process, is a continuous-time stochastic process that is widely used in finance for modeling stock prices and other financial variables. It is characterized by its properties of having independent, normally distributed increments and continuous paths."
   ]
  },
  {
   "cell_type": "markdown",
   "metadata": {},
   "source": [
    "## Black-Scholes Formula for Pricing\n",
    "The Black-Scholes formula is used to calculate the theoretical price of European call and put options. The formula assumes that the stock price follows a geometric Brownian motion with constant volatility and interest rate."
   ]
  },
  {
   "cell_type": "markdown",
   "metadata": {},
   "source": [
    "### Black-Scholes Call Option Pricing Formula\n",
    "$$ C = S_0 N(d_1) - K e^{-rT} N(d_2) $$\n",
    "where:\n",
    "- $C$ is the call option price\n",
    "- $S_0$ is the current stock price\n",
    "- $K$ is the strike price\n",
    "- $T$ is the time to maturity\n",
    "- $r$ is the risk-free interest rate\n",
    "- $\\sigma$ is the volatility of the stock\n",
    "- $N(\\cdot)$ is the cumulative distribution function of the standard normal distribution\n",
    "- $d_1 = \\frac{\\ln(S_0 / K) + (r + 0.5 \\sigma^2) T}{\\sigma \\sqrt{T}}$\n",
    "- $d_2 = d_1 - \\sigma \\sqrt{T}$"
   ]
  },
  {
   "cell_type": "markdown",
   "metadata": {},
   "source": [
    "### Black-Scholes Put Option Pricing Formula\n",
    "$$ P = K e^{-rT} N(-d_2) - S_0 N(-d_1) $$\n",
    "where:\n",
    "- $P$ is the put option price\n",
    "- $S_0$, $K$, $T$, $r$, $\\sigma$, $N(\\cdot)$, $d_1$, and $d_2$ are defined as above"
   ]
  },
  {
   "cell_type": "markdown",
   "metadata": {},
   "source": [
    "## Steps to Import and Use the Datasets\n",
    "1. **Import necessary libraries**: We will use `numpy` for numerical operations, `pandas` for data manipulation, `scipy.stats` for statistical functions, and `yfinance` for fetching financial data.\n",
    "2. **Define the Black-Scholes functions**: We will define functions to calculate the call and put option prices using the Black-Scholes formula.\n",
    "3. **Estimate parameters**: We will fetch historical stock data using `yfinance` and estimate the stock price and volatility.\n",
    "4. **Calculate option prices**: Using the estimated parameters, we will calculate the call and put option prices."
   ]
  },
  {
   "cell_type": "code",
   "execution_count": null,
   "metadata": {},
   "outputs": [],
   "source": [
    "import numpy as np\n",
    "import pandas as pd\n",
    "from scipy.stats import norm\n",
    "import yfinance as yf\n",
    "\n",
    "def black_scholes_call(S, K, T, r, sigma, dividend = 0):\n",
    "    c = dividend\n",
    "    d1 = (np.log(S / K) + (r + 0.5 * sigma ** 2) * T) / (sigma * np.sqrt(T))\n",
    "    d2 = d1 - sigma * np.sqrt(T)\n",
    "    call_price = S * np.exp(-c * T) * norm.cdf(d1) - K * np.exp(-r * T) * norm.cdf(d2)\n",
    "    return call_price\n",
    "\n",
    "def black_scholes_put(S, K, T, r, sigma, dividend = 0):\n",
    "    c = dividend\n",
    "    d1 = (np.log(S / K) + (r + 0.5 * sigma ** 2) * T) / (sigma * np.sqrt(T))\n",
    "    d2 = d1 - sigma * np.sqrt(T)\n",
    "    put_price = K * np.exp(-r * T) * norm.cdf(-d2) - S * np.exp(-c * T) * norm.cdf(-d1)\n",
    "    return put_price\n",
    "\n",
    "def estimate_parameters(ticker, start_date, end_date):\n",
    "    data = yf.download(ticker, start=start_date, end=end_date)\n",
    "    data['Log Returns'] = np.log(data['Close'][ticker] / data['Close'][ticker].shift(1))\n",
    "    sigma = data['Log Returns'].std() * np.sqrt(252)  # Annualized volatility\n",
    "    S = data['Close'][ticker].iloc[-1]  # Last adjusted close price\n",
    "    return S, sigma\n"
   ]
  },
  {
   "cell_type": "code",
   "execution_count": 11,
   "metadata": {},
   "outputs": [
    {
     "name": "stderr",
     "output_type": "stream",
     "text": [
      "[*********************100%***********************]  1 of 1 completed"
     ]
    },
    {
     "name": "stdout",
     "output_type": "stream",
     "text": [
      "Call Option Price: 12.853542860758864\n",
      "Put Option Price: 27.101295769264425\n"
     ]
    },
    {
     "name": "stderr",
     "output_type": "stream",
     "text": [
      "\n"
     ]
    }
   ],
   "source": [
    "\n",
    "# Example usage:\n",
    "ticker = 'AAPL'\n",
    "start_date = '2022-01-01'\n",
    "end_date = '2023-01-01'\n",
    "S, sigma = estimate_parameters(ticker, start_date, end_date)\n",
    "K = 150  # Strike price\n",
    "T = 1  # Time to maturity in years\n",
    "r = 0.05  # Risk-free interest rate\n",
    "\n",
    "call_price = black_scholes_call(S, K, T, r, sigma)\n",
    "put_price = black_scholes_put(S, K, T, r, sigma)\n",
    "\n",
    "print(f\"Call Option Price: {call_price}\")\n",
    "print(f\"Put Option Price: {put_price}\")"
   ]
  },
  {
   "cell_type": "code",
   "execution_count": 13,
   "metadata": {},
   "outputs": [
    {
     "name": "stdout",
     "output_type": "stream",
     "text": [
      "Call - Put - S + K * exp(-r * T): -2.842170943040401e-14\n",
      "Call + K * exp(-r * T) 155.53795653586596\n",
      "Put + S 155.537956535866\n"
     ]
    }
   ],
   "source": [
    "# Checking for call-put parity\n",
    "print(f\"Call - Put - S + K * exp(-r * T): {call_price - put_price - S + K * np.exp(-r * T)}\")\n",
    "\n",
    "print(\"Call + K * exp(-r * T)\", call_price + K * np.exp(-r * T))\n",
    "print(\"Put + S\", put_price + S)\n"
   ]
  },
  {
   "cell_type": "markdown",
   "metadata": {},
   "source": [
    "## Binomial Approximation"
   ]
  },
  {
   "cell_type": "markdown",
   "metadata": {},
   "source": [
    "Now assuming the stock prices move as per the binomial structure, as a close approximation to the brownian motion when number of periods approaches infinity.\n",
    "\n",
    "To calibrate the binomial model so that its dynamics match that of the geometric Brownian motion, we need to choose $u$, $d$, and $p$, the real-world probability of an up-move, appropriately. One of the more common choices is to set:\n",
    "\n",
    "$$ p = \\frac{e^{\\mu \\Delta t} - d}{u - d} $$\n",
    "\n",
    "$$ u = \\exp(\\sigma \\sqrt{\\Delta t}) $$\n",
    "\n",
    "$$ d = \\frac{1}{u} = \\exp(-\\sigma \\sqrt{\\Delta t}) $$\n",
    "\n",
    "where $T$ is the expiration date and $\\Delta t$ is the length of a period. Note then, for example, that:\n",
    "\n",
    "$$ \\mathbb{E}[S_{i+1} | S_i] = p u S_i + (1 - p) d S_i = S_i \\exp(\\mu \\Delta t) $$\n",
    "\n",
    "We will choose the gross risk-free rate per period, $R$, so that it corresponds to a continuously-compounded rate, $r$, in continuous time. We therefore have:\n",
    "\n",
    "$$ R = e^{r \\Delta t} $$"
   ]
  },
  {
   "cell_type": "code",
   "execution_count": 14,
   "metadata": {},
   "outputs": [],
   "source": [
    "def binomial_stock_structure(S, T, sigma, n):\n",
    "    dt = T / n\n",
    "    u = np.exp(sigma * np.sqrt(dt))\n",
    "    d = 1 / u\n",
    "    # p = (np.exp(r * dt) - d) / (u - d)\n",
    "    \n",
    "    term_structure = np.zeros((n+1, n+1))\n",
    "    for i in range(n+1):\n",
    "        for j in range(i+1):\n",
    "            term_structure[j, i] = S * (u ** (i-j)) * (d ** j)\n",
    "    return term_structure\n",
    "\n",
    "def binomial_option_pricing(S, K, T, RiskfreeRate, sigma, n, option_type='call', DividendYield = 0):\n",
    "    dt = T / n\n",
    "    u = np.exp(sigma * np.sqrt(dt))\n",
    "    d = 1 / u\n",
    "    riskNeutralProbability = (np.exp((RiskfreeRate - DividendYield) * dt) - d) / (u - d)\n",
    "    q = riskNeutralProbability\n",
    "    stock_structure = binomial_stock_structure(S, T, sigma, n)\n",
    "    option_tree = np.zeros((n+1, n+1))\n",
    "    for j in range(n+1):\n",
    "        if option_type == 'call':\n",
    "            option_tree[j, n] = max(0, stock_structure[j, n] - K)\n",
    "        elif option_type == 'put':\n",
    "            option_tree[j, n] = max(0, K - stock_structure[j, n])\n",
    "    \n",
    "    for i in range(n-1, -1, -1):\n",
    "        for j in range(i+1):\n",
    "            option_tree[j, i] = np.exp(-RiskfreeRate * dt) * (q * option_tree[j, i+1] + (1 - q) * option_tree[j+1, i+1])\n",
    "\n",
    "    return option_tree[0, 0]"
   ]
  },
  {
   "cell_type": "code",
   "execution_count": 15,
   "metadata": {},
   "outputs": [
    {
     "name": "stderr",
     "output_type": "stream",
     "text": [
      "[*********************100%***********************]  1 of 1 completed\n"
     ]
    },
    {
     "name": "stdout",
     "output_type": "stream",
     "text": [
      "Black-Scholes Call Option Price: 12.853542860758864\n",
      "Binomial Call Option Price: 12.851940777719108\n",
      "Black-Scholes Put Option Price: 27.101295769264425\n",
      "Binomial Put Option Price: 27.099693686220796\n"
     ]
    }
   ],
   "source": [
    "# pricing the same call option on underlying security using binomial approximation\n",
    "\n",
    "K = 150  # Strike price\n",
    "T = 1  # Time to maturity in years\n",
    "r = 0.05  # Risk-free interest rate\n",
    "n = 1000  # Number of time steps\n",
    "\n",
    "ticker = 'AAPL'\n",
    "start_date = '2022-01-01'\n",
    "end_date = '2023-01-01'\n",
    "S, sigma = estimate_parameters(ticker, start_date, end_date)\n",
    "\n",
    "print(f\"Black-Scholes Call Option Price: {black_scholes_call(S, K, T, r, sigma)}\")\n",
    "print(f\"Binomial Call Option Price: {binomial_option_pricing(S, K, T, r, sigma, n, option_type='call')}\")\n",
    "\n",
    "# pricing the same put option on underlying security using binomial approximation\n",
    "print(f\"Black-Scholes Put Option Price: {black_scholes_put(S, K, T, r, sigma)}\")\n",
    "print(f\"Binomial Put Option Price: {binomial_option_pricing(S, K, T, r, sigma, n, option_type='put')}\")"
   ]
  },
  {
   "cell_type": "code",
   "execution_count": 16,
   "metadata": {},
   "outputs": [
    {
     "name": "stdout",
     "output_type": "stream",
     "text": [
      "Black-Scholes Call Option Price: 2.6340714993612835\n",
      "Binomial Call Option Price: 2.60407713296656\n",
      "Black-Scholes Put Option Price: 12.085444210556346\n",
      "Binomial Put Option Price: 12.305137604415611\n"
     ]
    }
   ],
   "source": [
    "## Another example for pricing given the following parameteres:\n",
    "\n",
    "T = 0.25\n",
    "n = 15\n",
    "S = 100\n",
    "K = 110\n",
    "r = 0.02\n",
    "sigma = 0.3\n",
    "Div = 0.01\n",
    "\n",
    "print(f\"Black-Scholes Call Option Price: {black_scholes_call(S, K, T, r, sigma)}\")\n",
    "print(f\"Binomial Call Option Price: {binomial_option_pricing(S, K, T, r, sigma, n, option_type='call', DividendYield=Div)}\")\n",
    "\n",
    "print(f\"Black-Scholes Put Option Price: {black_scholes_put(S, K, T, r, sigma)}\")\n",
    "print(f\"Binomial Put Option Price: {binomial_option_pricing(S, K, T, r, sigma, n, option_type='put', DividendYield=Div)}\")\n"
   ]
  }
 ],
 "metadata": {
  "kernelspec": {
   "display_name": "Python 3",
   "language": "python",
   "name": "python3"
  },
  "language_info": {
   "codemirror_mode": {
    "name": "ipython",
    "version": 3
   },
   "file_extension": ".py",
   "mimetype": "text/x-python",
   "name": "python",
   "nbconvert_exporter": "python",
   "pygments_lexer": "ipython3",
   "version": "3.13.2"
  }
 },
 "nbformat": 4,
 "nbformat_minor": 2
}
